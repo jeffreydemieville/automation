{
 "cells": [
  {
   "cell_type": "code",
   "execution_count": 40,
   "metadata": {},
   "outputs": [],
   "source": [
    "import os\n",
    "import subprocess as sp"
   ]
  },
  {
   "cell_type": "code",
   "execution_count": 38,
   "metadata": {},
   "outputs": [],
   "source": [
    "def download_cctools(cctools_version = '7.1.12', architecture = 'x86_64', sys_os = 'centos7'):\n",
    "\n",
    "    cwd = os.getcwd()\n",
    "    home = os.path.expanduser('~')\n",
    "    \n",
    "    cctools_file = '-'.join(['cctools', cctools_version, architecture, sys_os])\n",
    "\n",
    "    if not os.path.isdir(os.path.join(home, cctools_file)):\n",
    "        print(f'Downloading {cctools_file}.')\n",
    "        cctools_url = ''.join(['http://ccl.cse.nd.edu/software/files/', cctools_file])\n",
    "        cmd1 = f'cd {home} && wget {cctools_url}.tar.gz && tar -xzvf {cctools_file}.tar.gz'\n",
    "        sp.call(cmd1, shell=True)\n",
    "        sp.call(f\"export CCTOOLS_HOME={home}/cctools-7.1.12-x86_64-centos7 && export PATH={home}/{cctools_file}/bin:$PATH\", shell=True)\n",
    "        print(f'Download complete. CCTools version {cctools_version} is ready!')\n",
    "\n",
    "    else:\n",
    "        print('Required CCTools version already exists.')\n"
   ]
  },
  {
   "cell_type": "code",
   "execution_count": 39,
   "metadata": {},
   "outputs": [
    {
     "name": "stdout",
     "output_type": "stream",
     "text": [
      "Downloading cctools-7.1.12-x86_64-centos7.\n",
      "Download complete. CCTools version 7.1.12 is ready!\n"
     ]
    }
   ],
   "source": [
    "download_cctools()"
   ]
  },
  {
   "cell_type": "code",
   "execution_count": 1,
   "metadata": {},
   "outputs": [],
   "source": [
    "import os\n",
    "import sys\n",
    "import shutil\n",
    "import tarfile\n",
    "\n",
    "# --------------------------------------------------\n",
    "def move_scan_date(scan_date):\n",
    "\n",
    "    if not os.path.isdir('processed_scans'):\n",
    "        os.makedirs('processed_scans')\n",
    "\n",
    "    shutil.move(scan_date, 'processed_scans')\n",
    "\n",
    "    if not os.path.isdir(scan_date):\n",
    "        os.makedirs(scan_date)\n",
    "\n",
    "\n",
    "# --------------------------------------------------\n",
    "def tar_outputs(scan_date, dir_path, tag, outdir):\n",
    "    cwd = os.getcwd()\n",
    "    data_type = ['west', 'west_downsampled', 'east', 'east_downsampled', 'merged', 'merged_downsampled', 'metadata']\n",
    "    # os.chdir(dir_path)\n",
    "\n",
    "    for d_type in data_type:\n",
    "\n",
    "        if not os.path.isdir(os.path.join(cwd, scan_date, outdir)):\n",
    "            os.makedirs(os.path.join(cwd, scan_date, outdir))\n",
    "\n",
    "        file_path = os.path.join(cwd, scan_date, outdir, f'{scan_date}_{d_type}_{tag}.tar') \n",
    "        tar = tarfile.open(file_path, 'w')\n",
    "        \n",
    "        for item in os.listdir(os.path.join(cwd, dir_path, d_type)):\n",
    "            print(os.path.join(cwd, dir_path, d_type, item))\n",
    "            tar.add(item)\n",
    "        # shutil.move(f'{scan_date}_{d_type}_{tag}.tar', os.path.join(cwd, scan_date, d_type))\n",
    "    # os.chdir(cwd)\n",
    "\n"
   ]
  },
  {
   "cell_type": "code",
   "execution_count": 2,
   "metadata": {},
   "outputs": [],
   "source": [
    "move_scan_date('2020-01-22')\n",
    "tar_outputs('2020-01-22', 'preprocessing_out', 'preprocessed', 'preprocessing')"
   ]
  },
  {
   "cell_type": "code",
   "execution_count": 46,
   "metadata": {},
   "outputs": [],
   "source": []
  },
  {
   "cell_type": "code",
   "execution_count": 3,
   "metadata": {},
   "outputs": [],
   "source": [
    "import os\n",
    "import sys\n",
    "import shutil\n",
    "import tarfile\n",
    "\n",
    "# --------------------------------------------------\n",
    "def move_scan_date(scan_date):\n",
    "\n",
    "    if not os.path.isdir('processed_scans'):\n",
    "        os.makedirs('processed_scans')\n",
    "\n",
    "    shutil.move(scan_date, 'processed_scans')\n",
    "\n",
    "    if not os.path.isdir(scan_date):\n",
    "        os.makedirs(scan_date)\n",
    "\n",
    "\n",
    "# --------------------------------------------------\n",
    "def tar_outputs(scan_date, dir_path, tag, outdir):\n",
    "    \n",
    "    cwd = os.getcwd()\n",
    "    data_type = ['west', 'west_downsampled', 'east', 'east_downsampled', 'merged', 'merged_downsampled', 'metadata']\n",
    "    # os.chdir(dir_path)\n",
    "\n",
    "    for d_type in data_type:\n",
    "\n",
    "        if os.path.isdir(os.path.join(cwd, dir_path, d_type)):\n",
    "\n",
    "            if not os.path.isdir(os.path.join(cwd, scan_date, outdir)):\n",
    "                os.makedirs(os.path.join(cwd, scan_date, outdir))\n",
    "\n",
    "            file_path = os.path.join(cwd, scan_date, outdir, f'{scan_date}_{d_type}_{tag}.tar') \n",
    "            tar = tarfile.open(file_path, 'w')\n",
    "            \n",
    "            for item in os.listdir(os.path.join(cwd, dir_path, d_type)):\n",
    "                print(os.path.join(cwd, dir_path, d_type, item))\n",
    "                tar.add(item)\n"
   ]
  },
  {
   "cell_type": "code",
   "execution_count": 4,
   "metadata": {},
   "outputs": [],
   "source": [
    "move_scan_date('2020-01-22')\n",
    "tar_outputs('2020-01-22', 'preprocessing_out', 'preprocessed', 'preprocessing')"
   ]
  },
  {
   "cell_type": "code",
   "execution_count": null,
   "metadata": {},
   "outputs": [],
   "source": []
  }
 ],
 "metadata": {
  "interpreter": {
   "hash": "36cf16204b8548560b1c020c4e8fb5b57f0e4c58016f52f2d4be01e192833930"
  },
  "kernelspec": {
   "display_name": "Python 3.9.7 64-bit",
   "name": "python3"
  },
  "language_info": {
   "codemirror_mode": {
    "name": "ipython",
    "version": 3
   },
   "file_extension": ".py",
   "mimetype": "text/x-python",
   "name": "python",
   "nbconvert_exporter": "python",
   "pygments_lexer": "ipython3",
   "version": "3.9.7"
  },
  "orig_nbformat": 4
 },
 "nbformat": 4,
 "nbformat_minor": 2
}
