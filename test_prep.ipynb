{
 "cells": [
  {
   "cell_type": "code",
   "execution_count": 40,
   "metadata": {},
   "outputs": [],
   "source": [
    "import os\n",
    "import subprocess as sp"
   ]
  },
  {
   "cell_type": "code",
   "execution_count": 38,
   "metadata": {},
   "outputs": [],
   "source": [
    "def download_cctools(cctools_version = '7.1.12', architecture = 'x86_64', sys_os = 'centos7'):\n",
    "\n",
    "    cwd = os.getcwd()\n",
    "    home = os.path.expanduser('~')\n",
    "    \n",
    "    cctools_file = '-'.join(['cctools', cctools_version, architecture, sys_os])\n",
    "\n",
    "    if not os.path.isdir(os.path.join(home, cctools_file)):\n",
    "        print(f'Downloading {cctools_file}.')\n",
    "        cctools_url = ''.join(['http://ccl.cse.nd.edu/software/files/', cctools_file])\n",
    "        cmd1 = f'cd {home} && wget {cctools_url}.tar.gz && tar -xzvf {cctools_file}.tar.gz'\n",
    "        sp.call(cmd1, shell=True)\n",
    "        sp.call(f\"export CCTOOLS_HOME={home}/cctools-7.1.12-x86_64-centos7 && export PATH={home}/{cctools_file}/bin:$PATH\", shell=True)\n",
    "        print(f'Download complete. CCTools version {cctools_version} is ready!')\n",
    "\n",
    "    else:\n",
    "        print('Required CCTools version already exists.')\n"
   ]
  },
  {
   "cell_type": "code",
   "execution_count": 39,
   "metadata": {},
   "outputs": [
    {
     "name": "stdout",
     "output_type": "stream",
     "text": [
      "Downloading cctools-7.1.12-x86_64-centos7.\n",
      "Download complete. CCTools version 7.1.12 is ready!\n"
     ]
    }
   ],
   "source": [
    "download_cctools()"
   ]
  },
  {
   "cell_type": "code",
   "execution_count": null,
   "metadata": {},
   "outputs": [],
   "source": []
  }
 ],
 "metadata": {
  "interpreter": {
   "hash": "36cf16204b8548560b1c020c4e8fb5b57f0e4c58016f52f2d4be01e192833930"
  },
  "kernelspec": {
   "display_name": "Python 3.9.7 64-bit",
   "name": "python3"
  },
  "language_info": {
   "codemirror_mode": {
    "name": "ipython",
    "version": 3
   },
   "file_extension": ".py",
   "mimetype": "text/x-python",
   "name": "python",
   "nbconvert_exporter": "python",
   "pygments_lexer": "ipython3",
   "version": "3.9.7"
  },
  "orig_nbformat": 4
 },
 "nbformat": 4,
 "nbformat_minor": 2
}
