{
 "cells": [
  {
   "cell_type": "code",
   "execution_count": 1,
   "metadata": {},
   "outputs": [],
   "source": [
    "import os \n",
    "import sys\n",
    "import glob\n",
    "import numpy as np"
   ]
  },
  {
   "cell_type": "code",
   "execution_count": 2,
   "metadata": {},
   "outputs": [],
   "source": [
    "# --------------------------------------------------\n",
    "def create_dict_plant(directory):\n",
    "    dir_list = []\n",
    "    dir_dict = {}\n",
    "    cnt = 0\n",
    "    files_list = []\n",
    "\n",
    "\n",
    "    for root, dirs, files in os.walk(directory):\n",
    "    \n",
    "        for f in files:\n",
    "       \n",
    "            if '.ply' in f:\n",
    "\n",
    "                raw, plant_name = os.path.split(root)\n",
    "                files_list.append(plant_name)\n",
    "    \n",
    "    files_list = np.unique(files_list).tolist()\n",
    "    \n",
    "    for item in files_list:\n",
    "\n",
    "        file_dict = {\n",
    "            \"PLANT_NAME\": os.path.basename(item),\n",
    "        }\n",
    "\n",
    "        dir_list.append(file_dict)\n",
    "\n",
    "    dir_dict[\"DATA_FILE_LIST\"] = dir_list\n",
    "\n",
    "    return dir_dict\n",
    "\n",
    "\n",
    "# --------------------------------------------------\n",
    "def bundle_data(file_list, data_per_bundle):\n",
    "    data_sets = []\n",
    "    bundle_list = []\n",
    "    for index, file in enumerate(file_list):\n",
    "        if index % data_per_bundle == 0 and index != 0:\n",
    "            bundle = {}\n",
    "            bundle[\"DATA_SETS\"] = data_sets\n",
    "            bundle[\"ID\"] = len(bundle_list)\n",
    "            bundle_list.append(bundle)\n",
    "            data_sets = []\n",
    "        data_sets.append(file)\n",
    "    bundle = {}\n",
    "    bundle[\"DATA_SETS\"] = data_sets\n",
    "    bundle[\"ID\"] = len(bundle_list)\n",
    "    bundle_list.append(bundle)\n",
    "    \n",
    "    return bundle_list"
   ]
  },
  {
   "cell_type": "code",
   "execution_count": 3,
   "metadata": {},
   "outputs": [
    {
     "name": "stdout",
     "output_type": "stream",
     "text": [
      "Oak_Pybas_29\n"
     ]
    },
    {
     "data": {
      "text/plain": [
       "{'DATA_FILE_LIST': [{'PLANT_NAME': 'Oak_Pybas_29'}]}"
      ]
     },
     "execution_count": 3,
     "metadata": {},
     "output_type": "execute_result"
    }
   ],
   "source": [
    "create_dict_plant('plantcrop')"
   ]
  },
  {
   "cell_type": "code",
   "execution_count": null,
   "metadata": {},
   "outputs": [],
   "source": []
  }
 ],
 "metadata": {
  "interpreter": {
   "hash": "36cf16204b8548560b1c020c4e8fb5b57f0e4c58016f52f2d4be01e192833930"
  },
  "kernelspec": {
   "display_name": "Python 3.9.7 64-bit",
   "name": "python3"
  },
  "language_info": {
   "codemirror_mode": {
    "name": "ipython",
    "version": 3
   },
   "file_extension": ".py",
   "mimetype": "text/x-python",
   "name": "python",
   "nbconvert_exporter": "python",
   "pygments_lexer": "ipython3",
   "version": "3.9.7"
  },
  "orig_nbformat": 4
 },
 "nbformat": 4,
 "nbformat_minor": 2
}
