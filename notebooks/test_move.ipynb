{
 "cells": [
  {
   "cell_type": "code",
   "execution_count": 1,
   "metadata": {},
   "outputs": [],
   "source": [
    "import os \n",
    "import subprocess as sp\n",
    "# --------------------------------------------------\n",
    "def season_dictionary():\n",
    "    \n",
    "    season_dict = {\n",
    "        '10': {\n",
    "            'scanner3DTop': {\n",
    "                'containers': {\n",
    "                    'gantry_notifications': {\n",
    "                        'simg': 'gantry_notifications.simg', \n",
    "                        'dockerhub_path': 'docker://phytooracle/slack_notifications:latest'\n",
    "                    },\n",
    "                    'preprocessing': {\n",
    "                        'simg': '3d_preprocessing.simg', \n",
    "                        'dockerhub_path': 'docker://phytooracle/3d_preprocessing:latest'\n",
    "                    },\n",
    "                    'sequential_alignment': {\n",
    "                        'simg': '3d_sequential_align.simg',\n",
    "                        'dockerhub_path': 'docker://phytooracle/3d_sequential_align:latest'\n",
    "                    }\n",
    "                },\n",
    "                'workflow_1': {\n",
    "                    'commands': [\n",
    "                    'jx2json main_workflow_phase1.jx -a bundle_list.json > main_workflow_phase1.json', \n",
    "                    'makeflow -T wq --json main_workflow_phase1.json -a -N phytooracle_3d -M phytooracle_3d -r 3 -p 0 -dall -o dall.log $@'\n",
    "                    ],\n",
    "                    'outputs': {\n",
    "                        'pipeline_out': 'preprocessing_out',\n",
    "                        'tag': 'preprocessed',\n",
    "                        'outdir': 'preprocessing'\n",
    "                    }\n",
    "                },\n",
    "                'intermediate': {\n",
    "                    'commands': {\n",
    "                    'singularity run 3d_sequential_align.simg -i preprocessing_out/ -o sequential_alignment_out/'\n",
    "                    },\n",
    "                    'outputs': {\n",
    "                        'pipeline_out': 'sequential_alignment_out',\n",
    "                        'tag': 'aligned',\n",
    "                        'outdir': 'alignment'\n",
    "                    }\n",
    "                },\n",
    "                'workflow_2': {\n",
    "                    'commands': {\n",
    "                        'jx2json main_workflow_phase-2.jx -a bundle_list.json > main_workflow_phase2.json', \n",
    "                        'makeflow -T wq --json main_workflow_phase2.json -a -r 2 -M phytooracle_3d -N phytooracle_3d -p 60221 -dall -o dall.log --disable-cache $@'\n",
    "                    },\n",
    "                    'outputs': {\n",
    "                        'pipeline_out': '',\n",
    "                        'tag': '',\n",
    "                        'outdir': ''\n",
    "                    }\n",
    "                }\n",
    "            }\n",
    "        }\n",
    "    }\n",
    "\n",
    "    return season_dict"
   ]
  },
  {
   "cell_type": "code",
   "execution_count": 2,
   "metadata": {},
   "outputs": [],
   "source": [
    "season_dict = season_dictionary()"
   ]
  },
  {
   "cell_type": "code",
   "execution_count": 4,
   "metadata": {},
   "outputs": [
    {
     "name": "stdout",
     "output_type": "stream",
     "text": [
      "jx2json main_workflow_phase1.jx -a bundle_list.json > main_workflow_phase1.json\n",
      "makeflow -T wq --json main_workflow_phase1.json -a -N phytooracle_3d -M phytooracle_3d -r 3 -p 0 -dall -o dall.log $@\n"
     ]
    }
   ],
   "source": [
    "for item in season_dict['10']['scanner3DTop']['workflow_1']['commands']:\n",
    "    print(item)"
   ]
  },
  {
   "cell_type": "code",
   "execution_count": null,
   "metadata": {},
   "outputs": [],
   "source": [
    "# --------------------------------------------------\n",
    "def run_workflow_1(season, sensor, season_dict):\n",
    "\n",
    "    home = os.path.join(os.path.expanduser('~'), 'cctools-7.1.12-x86_64-centos7', 'bin/')\n",
    "    sp.run([\"sbatch\", \"worker_scripts/po_work_puma_slurm.sh\"])\n",
    "\n",
    "    for item in season_dict[season][sensor]['workflow_1']['commands']:\n",
    "        cmd = ''.join([home, item])\n",
    "        print(cmd)"
   ]
  }
 ],
 "metadata": {
  "interpreter": {
   "hash": "36cf16204b8548560b1c020c4e8fb5b57f0e4c58016f52f2d4be01e192833930"
  },
  "kernelspec": {
   "display_name": "Python 3.9.7 64-bit",
   "name": "python3"
  },
  "language_info": {
   "codemirror_mode": {
    "name": "ipython",
    "version": 3
   },
   "file_extension": ".py",
   "mimetype": "text/x-python",
   "name": "python",
   "nbconvert_exporter": "python",
   "pygments_lexer": "ipython3",
   "version": "3.9.7"
  },
  "orig_nbformat": 4
 },
 "nbformat": 4,
 "nbformat_minor": 2
}
