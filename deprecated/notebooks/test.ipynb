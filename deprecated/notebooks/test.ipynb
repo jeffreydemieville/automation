{
 "cells": [
  {
   "cell_type": "code",
   "execution_count": 7,
   "metadata": {},
   "outputs": [],
   "source": [
    "import os\n",
    "import glob\n",
    "import shutil"
   ]
  },
  {
   "cell_type": "code",
   "execution_count": 8,
   "metadata": {},
   "outputs": [],
   "source": [
    "def create_pipeline_logs(scan_date):\n",
    "    cwd = os.getcwd()\n",
    "\n",
    "    if not os.path.isdir(os.path.join(cwd, scan_date, 'logs')):\n",
    "        os.makedirs(os.path.join(cwd, scan_date, 'logs'))\n",
    "\n",
    "    if os.path.isdir('sequential_alignment_out'):\n",
    "        shutil.move(os.path.join(cwd, 'sequential_alignment_out/log.json'), os.path.join(cwd, scan_date, 'logs', 'log.json'))\n",
    "\n",
    "    for item in glob.glob('./*.json*'):\n",
    "        shutil.move(item, os.path.join(cwd, scan_date, 'logs', item))\n",
    "    "
   ]
  },
  {
   "cell_type": "code",
   "execution_count": 9,
   "metadata": {},
   "outputs": [],
   "source": [
    "create_pipeline_logs('2020-01-22')"
   ]
  },
  {
   "cell_type": "code",
   "execution_count": 10,
   "metadata": {},
   "outputs": [
    {
     "data": {
      "text/plain": [
       "[]"
      ]
     },
     "execution_count": 10,
     "metadata": {},
     "output_type": "execute_result"
    }
   ],
   "source": [
    "glob.glob('./*.sjon*')"
   ]
  },
  {
   "cell_type": "code",
   "execution_count": null,
   "metadata": {},
   "outputs": [],
   "source": []
  }
 ],
 "metadata": {
  "interpreter": {
   "hash": "36cf16204b8548560b1c020c4e8fb5b57f0e4c58016f52f2d4be01e192833930"
  },
  "kernelspec": {
   "display_name": "Python 3.9.7 64-bit",
   "name": "python3"
  },
  "language_info": {
   "codemirror_mode": {
    "name": "ipython",
    "version": 3
   },
   "file_extension": ".py",
   "mimetype": "text/x-python",
   "name": "python",
   "nbconvert_exporter": "python",
   "pygments_lexer": "ipython3",
   "version": "3.9.7"
  },
  "orig_nbformat": 4
 },
 "nbformat": 4,
 "nbformat_minor": 2
}
